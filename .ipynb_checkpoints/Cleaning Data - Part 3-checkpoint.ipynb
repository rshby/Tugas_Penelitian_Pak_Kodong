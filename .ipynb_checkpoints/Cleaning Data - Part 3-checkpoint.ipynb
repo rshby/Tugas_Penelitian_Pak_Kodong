{
 "cells": [
  {
   "cell_type": "code",
   "execution_count": 1,
   "metadata": {},
   "outputs": [],
   "source": [
    "import pandas as pd\n",
    "import numpy as np\n",
    "import matplotlib.pyplot as plt\n",
    "import seaborn as sns\n",
    "\n",
    "pd.options.display.max_rows = 100\n",
    "pd.options.display.max_columns = 999"
   ]
  },
  {
   "cell_type": "markdown",
   "metadata": {},
   "source": [
    "# Membuat Fungsi Klasifikasi\n",
    "Dalam fungsi ini akan berisi syntax yang digunakan untuk melakukan klasifikasi data pada kolom \"text\", dengan cara melakukan filter terhadap kata kunci yang sudah disesuaikan untuk masing-masing klasifikasi.<br>\n",
    "\n",
    "Klasifikasi: fungsi yang digunakan untuk melakukan klasifikasi kolom \"text\" berdasarkan kata kunci yang sudah disesiakan.\n",
    "<br><br>\n",
    "Percent_to_Binning: fungsi yang digunakan untuk menambahkan kolom \"klasifikasi\" yang berisi klasifikasi kategori, kolom \"percent\" yang berisi persentasi jumlah retweet + like dibandingkan dengan jumlah maksimal untuk masing-masing klasifikasi kategori, dan kolom \"scoring_to_clf\" yang berisi penilaian dari nilai percent tersebut"
   ]
  },
  {
   "cell_type": "code",
   "execution_count": null,
   "metadata": {},
   "outputs": [],
   "source": [
    "def Klasifikasi(mode):\n",
    "    a = (df[\"text\"].str.contains(\"wni\")) | (df[\"text\"].str.contains(\"dokumen\")) | (df[\"text\"].str.contains(\"#negaramelindungi\")) | (df[\"text\"].str.contains(\"#covid19\") | (df[\"text\"].str.contains(\"#covid\") | (df[\"text\"].str.contains(\"#corona\"))\n",
    "    b = (df[\"text\"].str.contains(\"Hubungan Diplomatik\")) | (df[\"text\"].str.contains(\"Hubungan Bilateral\")) | (df[\"text\"].str.contains(\"Kerja sama\")) | (df[\"text\"].str.contains(\"#IniDiplomasi\")) | (df[\"text\"].str.contains(\"#SahabatKemlu\")) | (df[\"text\"].str.contains(\"#MenluRetno\")) | (df[\"text\"].str.contains(\"#FMMarsudi\")) | (df[\"text\"].str.contains(\"#RintisKemajuan\")) | (df[\"text\"].str.contains(\"#BatikDiplomacy\")) | (df[\"text\"].str.contains(\"#IndonesianWay\")) | (df[\"text\"].str.contains(\"#DigitalDiplomacy\")) | (df[\"text\"].str.contains(\"#DiplomasiKuliner\"))\n",
    "    c = (df[\"text\"].str.contains(\"UN / United Nation\")) | (df[\"text\"].str.contains(\"ASEAN\")) | (df[\"text\"].str.contains(\"Kerjasama Multilateral\")) | (df[\"text\"].str.contains(\"Rohingya\")) | (df[\"text\"].str.contains(\"Palestina\")) | (df[\"text\"].str.contains(\"Suriah\")) | (df[\"text\"].str.contains(\"Irak\")) | (df[\"text\"].str.contains(\"ISIS\")) | (df[\"text\"].str.contains(\"#IndonesiaUntukDunia\")) | (df[\"text\"].str.contains(\"#CounterTerrorism\")) | (df[\"text\"].str.contains(\"#DiplomacyforPeaceandProsperity\"))\n",
    "    d = (df[\"text\"].str.contains(\"Papua\")) | (df[\"text\"].str.contains(\"Sawit\")) | (df[\"text\"].str.contains(\"Perbatasan\")) | (df[\"text\"].str.contains(\"Demokrasi Indonesia\")) | (df[\"text\"].str.contains(\"#BaliDemocracyForum\"))\n",
    "    \n",
    "    if mode == \"A\":\n",
    "        filt = a\n",
    "    elif mode == \"B\":\n",
    "        filt = b\n",
    "    elif mode == \"C\":\n",
    "        filt = c\n",
    "    elif mode == \"D\":\n",
    "        filt = d\n",
    "    elif mode == \"Total\":\n",
    "        filt = (a | b | c | d)\n",
    "        \n",
    "    return df.loc[filt][[\"user_id\",\"screen_name\",\"text\",\"retweet_count\",\"favorite_count\",\"jumlah_rt_like\",\"lang\"]]\n",
    "\n",
    "\n",
    "def Percent_to_Binning(mode):\n",
    "    # bins = 0-49%, 50-69%, 70-84%, 85-100%\n",
    "    bins = [0, 49, 69, 84, 100]\n",
    "    \n",
    "    # nama label binning\n",
    "    labels_name = [\"Ineffective\", \"Adequate\", \"Moderately Effective\", \"Effetive\"]\n",
    "    \n",
    "    hasil_clf = Klasifikasi(mode)\n",
    "    \n",
    "    if mode == \"A\":\n",
    "        hasil_clf[\"klasifikasi\"] = \"A\"\n",
    "    elif mode == \"B\":\n",
    "        hasil_clf[\"klasifikasi\"] = \"B\"\n",
    "    elif mode == \"C\":\n",
    "        hasil_clf[\"klasifikasi\"] = \"C\"\n",
    "    elif mode == \"D\":\n",
    "        hasil_clf[\"klasifikasi\"] = \"D\"\n",
    "    \n",
    "    # tambahkan kolom \"percent\" yang berisi percent jumlah retweet dan like terhadap jumlah maksimal\n",
    "    hasil_clf[\"percent\"] = hasil_clf[\"jumlah_rt_like\"] / hasil_clf[\"jumlah_rt_like\"].max() * 100\n",
    "    \n",
    "    # tambahkan kolom \"scoring_to_clf\" yang berisi binning dari data percent\n",
    "    hasil_clf[\"scoring_to_clf\"] = pd.cut(hasil_clf[\"percent\"], bins, labels=labels_name)\n",
    "    \n",
    "    return hasil_clf"
   ]
  }
 ],
 "metadata": {
  "kernelspec": {
   "display_name": "Python 3",
   "language": "python",
   "name": "python3"
  },
  "language_info": {
   "codemirror_mode": {
    "name": "ipython",
    "version": 3
   },
   "file_extension": ".py",
   "mimetype": "text/x-python",
   "name": "python",
   "nbconvert_exporter": "python",
   "pygments_lexer": "ipython3",
   "version": "3.7.6"
  }
 },
 "nbformat": 4,
 "nbformat_minor": 4
}
