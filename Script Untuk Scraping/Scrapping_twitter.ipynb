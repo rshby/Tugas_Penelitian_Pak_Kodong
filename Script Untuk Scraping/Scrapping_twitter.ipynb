{
 "cells": [
  {
   "cell_type": "code",
   "execution_count": 2,
   "metadata": {},
   "outputs": [],
   "source": [
    "import pandas as pd\n",
    "from twitterscraper import query_tweets\n",
    "import datetime as dt\n",
    "import sys"
   ]
  },
  {
   "cell_type": "markdown",
   "metadata": {},
   "source": [
    "# Scrapping Twitter\n",
    "menggunakan subproses berdasarkan keyword"
   ]
  },
  {
   "cell_type": "code",
   "execution_count": 3,
   "metadata": {},
   "outputs": [],
   "source": [
    "# Buat list untuk menampung keywords\n",
    "kata_kunci = [\"kbridenhaag\", \"IndonesiaInCPH\", \"KBRI_Athena\", \"kbrimoskow\", \"kbrihelsinki\",\n",
    "             \"BRI_Paris\", \"IndonesiaInSto\", \"ndonesiaInPL\", \"BRIPraha\", \"BRIBerlin\", \"ndonesiainBern\",\n",
    "             \"BRIBudapest\", \"bri_baku\", \"KBRI__Roma\", \"briwina\", \"brioslo\", \"BRILondon\", \"KBRIMADRID\",\n",
    "             \"NAinLisbon\", \"indonesia_sk\"]\n",
    "\n",
    "begin_date = dt.date(2017, 1, 1)\n",
    "end_date = dt.date(2020, 8, 13)"
   ]
  },
  {
   "cell_type": "code",
   "execution_count": null,
   "metadata": {},
   "outputs": [],
   "source": [
    "'''\n",
    "for keyword in kata_kunci:\n",
    "    tweets = query_tweets(keyword, limit=2, begindate=begin_date, enddate=end_date, lang=\"id\")\n",
    "    df = pd.DataFrame(t.__dict__ for t in tweets)\n",
    "    columns_fix = [\"screen_name\", \"username\", \"timestamp\", \"text\"]\n",
    "    df_fix = df.loc[:, df.columns.isin(columns_fix)]\n",
    "    \n",
    "    df_fix.to_csv(f'{keyword}.csv', sep=',', encoding='utf-8')\n",
    "    print(f'pencarian {keyword} telah selesai')\n",
    "'''"
   ]
  },
  {
   "cell_type": "code",
   "execution_count": 27,
   "metadata": {},
   "outputs": [],
   "source": [
    "tweets = query_tweets(\"notre dame fire\", 100, lang='english')"
   ]
  },
  {
   "cell_type": "code",
   "execution_count": 28,
   "metadata": {},
   "outputs": [],
   "source": [
    "df = pd.DataFrame(data=tweets)"
   ]
  },
  {
   "cell_type": "code",
   "execution_count": 29,
   "metadata": {},
   "outputs": [
    {
     "data": {
      "text/html": [
       "<div>\n",
       "<style scoped>\n",
       "    .dataframe tbody tr th:only-of-type {\n",
       "        vertical-align: middle;\n",
       "    }\n",
       "\n",
       "    .dataframe tbody tr th {\n",
       "        vertical-align: top;\n",
       "    }\n",
       "\n",
       "    .dataframe thead th {\n",
       "        text-align: right;\n",
       "    }\n",
       "</style>\n",
       "<table border=\"1\" class=\"dataframe\">\n",
       "  <thead>\n",
       "    <tr style=\"text-align: right;\">\n",
       "      <th></th>\n",
       "    </tr>\n",
       "  </thead>\n",
       "  <tbody>\n",
       "  </tbody>\n",
       "</table>\n",
       "</div>"
      ],
      "text/plain": [
       "Empty DataFrame\n",
       "Columns: []\n",
       "Index: []"
      ]
     },
     "execution_count": 29,
     "metadata": {},
     "output_type": "execute_result"
    }
   ],
   "source": [
    "df"
   ]
  },
  {
   "cell_type": "code",
   "execution_count": 30,
   "metadata": {},
   "outputs": [
    {
     "name": "stdout",
     "output_type": "stream",
     "text": [
      "[]\n"
     ]
    }
   ],
   "source": [
    "print(tweets)"
   ]
  },
  {
   "cell_type": "code",
   "execution_count": null,
   "metadata": {},
   "outputs": [],
   "source": []
  }
 ],
 "metadata": {
  "kernelspec": {
   "display_name": "Python 3",
   "language": "python",
   "name": "python3"
  },
  "language_info": {
   "codemirror_mode": {
    "name": "ipython",
    "version": 3
   },
   "file_extension": ".py",
   "mimetype": "text/x-python",
   "name": "python",
   "nbconvert_exporter": "python",
   "pygments_lexer": "ipython3",
   "version": "3.8.3"
  }
 },
 "nbformat": 4,
 "nbformat_minor": 4
}
